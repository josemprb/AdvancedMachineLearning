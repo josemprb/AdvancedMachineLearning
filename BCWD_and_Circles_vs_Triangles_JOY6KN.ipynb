{
  "nbformat": 4,
  "nbformat_minor": 0,
  "metadata": {
    "colab": {
      "name": "BCWD_and_Circles_vs_Triangles-JOY6KN.ipynb",
      "provenance": [],
      "collapsed_sections": []
    },
    "kernelspec": {
      "name": "python3",
      "display_name": "Python 3"
    },
    "accelerator": "GPU"
  },
  "cells": [
    {
      "cell_type": "markdown",
      "metadata": {
        "id": "Y9_5MHu9SKty",
        "colab_type": "text"
      },
      "source": [
        "# Assignment\n",
        "\n",
        "The following notebook contains the base architecture for the assignment.\n",
        "\n",
        "The task is to complete the missing parts, explore the datasets and build two simple binary classifier, one which consists only of fully connected layers and one which also incorporates convolutional and max-pooling layers.\n",
        "\n",
        "Only numpy is allowed to implement the classes! (Matplotlib and other modules can be used for visualization and data exploration.)\n",
        "\n",
        "**Due date:** 2019 december 3"
      ]
    },
    {
      "cell_type": "code",
      "metadata": {
        "id": "zG1JXnLcUV3m",
        "colab_type": "code",
        "colab": {}
      },
      "source": [
        "import numpy as np"
      ],
      "execution_count": 0,
      "outputs": []
    },
    {
      "cell_type": "markdown",
      "metadata": {
        "id": "f9d-1x2cZzYa",
        "colab_type": "text"
      },
      "source": [
        "# Optimizers"
      ]
    },
    {
      "cell_type": "code",
      "metadata": {
        "id": "wBs6_-e8UWjq",
        "colab_type": "code",
        "colab": {}
      },
      "source": [
        "class Optimizer:\n",
        "  def update(self, param, grad):\n",
        "    pass\n",
        "  \n",
        "  def __call__(self, param, grad):\n",
        "    self.update(param, grad)\n",
        "  \n",
        "  \n",
        "class SGD(Optimizer):\n",
        "  def __init__(self, learning_rate):\n",
        "    self.learning_rate = learning_rate\n",
        "  \n",
        "  def update(self, param, grad):\n",
        "    '''Gradient Descent Update\n",
        "    This function updates the given 'param' using the 'grad' (gradients). \n",
        "    Note #1: Use the learning_rate. \n",
        "    Note #2: There are no return values.\n",
        "    :param param: Parameters of the layer.\n",
        "    :param grad: Corresponding gradients.\n",
        "    '''\n",
        "    param -= self.learning_rate * grad"
      ],
      "execution_count": 0,
      "outputs": []
    },
    {
      "cell_type": "markdown",
      "metadata": {
        "id": "DksZNjk3Z9s8",
        "colab_type": "text"
      },
      "source": [
        "# Weight Initializers"
      ]
    },
    {
      "cell_type": "code",
      "metadata": {
        "id": "3sVP-7TgVsmi",
        "colab_type": "code",
        "colab": {}
      },
      "source": [
        "class WeigthInitializer:\n",
        "  def initialize(self, size):\n",
        "    return np.ones(size, dtype=np.float)\n",
        "  \n",
        "  def __call__(self, size):\n",
        "    return self.initialize(size)\n",
        "  \n",
        "\n",
        "class RandomInitializer(WeigthInitializer):\n",
        "  def __init__(self, shift=-0.5, scale=0.2):\n",
        "    self.shift = shift\n",
        "    self.scale = scale\n",
        "    \n",
        "  def initialize(self, size):\n",
        "    '''Random number initializer\n",
        "    Note #1: 'self.scale' specifies the range of the values and with 'self.shift' they can be shifted.\n",
        "    Note #2: By default (with scale=0.2 and shift=-0.5) it should return a matrix which contains random values between -0.1 and 0.1. \n",
        "    Note #3: Use the np.random modul!\n",
        "\n",
        "    :param size: Dimensions of the matrix.\n",
        "    :returns: A matrix of random numbers with dimensions specified by 'size'. \n",
        "    '''\n",
        "    return self.scale *(np.random.random(size) + self.shift)\n",
        "\n",
        "class HeInitializer(WeigthInitializer):\n",
        "  def __init__(self, shift=-0.5, scale=0.2):\n",
        "    self.shift = shift\n",
        "    self.scale = scale\n",
        "    \n",
        "  def initialize(self, size):\n",
        "    '''He initializer\n",
        "    :param size: Dimensions of the matrix.\n",
        "    :returns: A matrix of random numbers with dimensions specified by 'size'. \n",
        "    '''\n",
        "    if (len(size) == 2):\n",
        "      return 0.5 * np.random.standard_normal(size) * np.sqrt(2.0/(size[0]))\n",
        "    elif (len(size) == 4):\n",
        "      return 0.5 * np.random.standard_normal(size) * np.sqrt(2.0/(size[0]*size[1]*size[2]))"
      ],
      "execution_count": 0,
      "outputs": []
    },
    {
      "cell_type": "markdown",
      "metadata": {
        "id": "SIc59gXDaRsK",
        "colab_type": "text"
      },
      "source": [
        "# Function class"
      ]
    },
    {
      "cell_type": "code",
      "metadata": {
        "id": "AwWfbE61aHeq",
        "colab_type": "code",
        "colab": {}
      },
      "source": [
        "class Function:\n",
        "  def forward(self, input):\n",
        "    return None  \n",
        "  \n",
        "  def __call__(self, input):\n",
        "    return self.forward(input)\n",
        "  \n",
        "  def backward(self, grads):\n",
        "    return None"
      ],
      "execution_count": 0,
      "outputs": []
    },
    {
      "cell_type": "markdown",
      "metadata": {
        "id": "HidyOxGGZyvV",
        "colab_type": "text"
      },
      "source": [
        "## Activation functions"
      ]
    },
    {
      "cell_type": "code",
      "metadata": {
        "id": "T1B1lLxTaLrp",
        "colab_type": "code",
        "colab": {}
      },
      "source": [
        "class Activation(Function):\n",
        "  def __init__(self):\n",
        "    pass\n",
        "  \n",
        "  \n",
        "class Linear(Activation):\n",
        "  def forward(self, z):\n",
        "    return z.astype(np.float)\n",
        "\n",
        "  def backward(self, z):\n",
        "    return np.ones_like(z, dtype=np.float)\n",
        "\n",
        "\n",
        "class Relu(Activation):\n",
        "  def forward(self, z):\n",
        "    '''Forward pass of the Rectified Linear Unit activation function.\n",
        "\n",
        "    :param z: Input tensor.\n",
        "    :returns: ReLU(z), see the lecture notes for the definition. \n",
        "    '''\n",
        "    return np.maximum(0,z).astype(np.float)\n",
        "\n",
        "  def backward(self, z):\n",
        "    '''Backward pass of the Rectified Linear Unit activation function.\n",
        "\n",
        "    :param z: Input tensor.\n",
        "    :returns: ReLU'(z), see the lecture notes for the definition. \n",
        "    '''\n",
        "    z[z > 0] = 1\n",
        "    z[z <= 0] = 0\n",
        "    return z.astype(float)\n",
        "\n",
        "\n",
        "class Sigmoid(Activation):\n",
        "  def forward(self, z):\n",
        "    '''Forward pass of the Sigmoid activation function.\n",
        "\n",
        "    :param z: Input tensor.\n",
        "    :returns: sigmoid(z), see the lecture notes for the definition. \n",
        "    '''\n",
        "    z = 1 / (1 + np.exp(-z))\n",
        "    return z.astype(float)\n",
        "  \n",
        "  def backward(self, z):\n",
        "    '''Backward pass of the Sigmoid activation function.\n",
        "\n",
        "    :param z: Input tensor.\n",
        "    :returns: sigmoid'(z), see the lecture notes for the definition. \n",
        "    '''\n",
        "    z = 1 / (1 + np.exp(-z)) * (1 - 1 / (1 + np.exp(-z)))\n",
        "    return z.astype(float)"
      ],
      "execution_count": 0,
      "outputs": []
    },
    {
      "cell_type": "markdown",
      "metadata": {
        "id": "3NDdM8JNbqJN",
        "colab_type": "text"
      },
      "source": [
        "## Loss functions"
      ]
    },
    {
      "cell_type": "code",
      "metadata": {
        "id": "iHY8E2ZPbuLM",
        "colab_type": "code",
        "colab": {}
      },
      "source": [
        "class Loss(Function):\n",
        "  def forward(self, y_true, y_pred):\n",
        "    return None\n",
        "  \n",
        "  def __call__(self, y_true, y_pred):\n",
        "    return self.forward(y_true, y_pred)\n",
        "  \n",
        "  def backward(self, y_true, y_pred):\n",
        "    return None\n",
        "  \n",
        "  \n",
        "class BinaryCrossentropy(Loss):\n",
        "  def forward(self, y_true, y_pred):\n",
        "    '''Forward pass of the Binary Crossentropy loss.\n",
        "    Note: Both 'y_true' and 'y_pred' contains a batch of labels => y_true.shape == y_pred.shape == <batch size> x 1 \n",
        "\n",
        "    :param y_true: Ground truth labels.\n",
        "    :param y_pred: Predicted labels.\n",
        "    :returns: Binary crossentropy loss, see the lecture notes for the definition. \n",
        "    '''\n",
        "    return np.sum(-1*y_true*np.log10(y_pred)-(1-y_true)*np.log10(1-y_pred)) / len(y_true)\n",
        "\n",
        "  def backward(self, y_true, y_pred):\n",
        "    '''Backward pass of the Binary Crossentropy loss.\n",
        "    Note #1: The gradient should have the same shape as y_pred (<batch size> x 1) \n",
        "    Note #2: Keep in mind that the derivative of the loss in the lecture notes is for a logistic regression model. \n",
        "    Note #3: Here, you do not need to derive respect to the weights! \n",
        "\n",
        "    :param y_true: Ground truth labels.\n",
        "    :param y_pred: Predicted labels.\n",
        "    :returns: Derivative of the binary crossentropy loss, see the lecture notes for the \"definition\". \n",
        "    '''\n",
        "    return y_true*(y_pred-1) + (1-y_true)*y_pred"
      ],
      "execution_count": 0,
      "outputs": []
    },
    {
      "cell_type": "markdown",
      "metadata": {
        "id": "IRcHiINgd9t-",
        "colab_type": "text"
      },
      "source": [
        "## Layers"
      ]
    },
    {
      "cell_type": "code",
      "metadata": {
        "id": "GkbVSEU5eHYz",
        "colab_type": "code",
        "colab": {}
      },
      "source": [
        "class Layer(Function):\n",
        "  def __init__(self, activation, optimizer=None, weight_init=HeInitializer(), *args, **kwargs):\n",
        "    self.activation = activation\n",
        "    self.optimizer = optimizer\n",
        "    self.weight_init = weight_init\n",
        "  \n",
        "  def _forward(self, x):\n",
        "    return None\n",
        "  \n",
        "  def forward(self, X):\n",
        "    self.X = X\n",
        "    self.Z = self._forward(X)\n",
        "    self.h = self.activation(self.Z)\n",
        "    return self.h\n",
        "  \n",
        "  def _backward(self, dZ):\n",
        "    return None, None\n",
        "  \n",
        "  def backward(self, dh):\n",
        "    dZ = dh * self.activation.backward(self.Z)\n",
        "    self.dX, self.grads = self._backward(dZ)\n",
        "    self._update_weights()\n",
        "    return self.dX\n",
        "  \n",
        "  def _update_weights(self):\n",
        "    assert len(self.params) == len(self.grads)\n",
        "    for idx in range(len(self.params)):\n",
        "      self.optimizer(self.params[idx], self.grads[idx])"
      ],
      "execution_count": 0,
      "outputs": []
    },
    {
      "cell_type": "markdown",
      "metadata": {
        "id": "Wmpzs9KweKfl",
        "colab_type": "text"
      },
      "source": [
        "### Fully-connected (dense) layer"
      ]
    },
    {
      "cell_type": "code",
      "metadata": {
        "id": "Z2IN9LRReScS",
        "colab_type": "code",
        "colab": {}
      },
      "source": [
        "class Dense(Layer):\n",
        "  def __init__(self, size, *args, **kwargs):\n",
        "    super(Dense, self).__init__(*args, **kwargs)\n",
        "    self.W = self.weight_init(size)\n",
        "    self.b = self.weight_init((1, size[1]))\n",
        "    self.params = [self.W, self.b]\n",
        "    \n",
        "  def _forward(self, X):\n",
        "    '''Forward pass of the dense layer.\n",
        "    Note #1: Use self.W and self.b\n",
        "    Note #2: Input times weight add a bias ==> activate is already taken care of! (see self.forward())\n",
        "\n",
        "    :param X: Input matrix\n",
        "    :returns: Linear combination, see the lecture notes for the definition.\n",
        "    '''\n",
        "    return np.dot(X, self.params[0]) + self.params[1]\n",
        "\n",
        "  def _backward(self, dZ):\n",
        "    '''Backward pass of the dense layer.\n",
        "    Note: Use self.X\n",
        "\n",
        "    :param dZ: Gradient of the subsequent layer.\n",
        "    :returns: A pair (dX and [dW, db]) which contains the partial derivatives respect to the input and to the parameters (W and b). See the lecture notes for the \"definition\".\n",
        "    '''\n",
        "    dW = np.dot(self.X.T, dZ) / len(dZ)\n",
        "    db = np.dot(np.ones(len(dZ)), dZ) / len(dZ)\n",
        "    dX = np.transpose(np.dot(self.params[0], dZ.T))\n",
        "    return dX, [dW, db]"
      ],
      "execution_count": 0,
      "outputs": []
    },
    {
      "cell_type": "markdown",
      "metadata": {
        "id": "JoocZjuRgkbC",
        "colab_type": "text"
      },
      "source": [
        "### Flatten"
      ]
    },
    {
      "cell_type": "code",
      "metadata": {
        "id": "P2M8ROl3gmtr",
        "colab_type": "code",
        "colab": {}
      },
      "source": [
        "class Flatten(Layer):\n",
        "  def __init__(self, *args, **kwargs):\n",
        "    super(Flatten, self).__init__(activation=Linear(), *args, **kwargs)\n",
        "  \n",
        "  def _forward(self, X):\n",
        "    return X.reshape((len(X), -1))\n",
        "\n",
        "  def _backward(self, dZ):\n",
        "    return dZ.reshape(self.X.shape), []\n",
        "  \n",
        "  def _update_weights(self):\n",
        "    pass"
      ],
      "execution_count": 0,
      "outputs": []
    },
    {
      "cell_type": "markdown",
      "metadata": {
        "id": "9M_Dfks0gqkS",
        "colab_type": "text"
      },
      "source": [
        "### Max pooling"
      ]
    },
    {
      "cell_type": "code",
      "metadata": {
        "id": "mUMqKR7egwSr",
        "colab_type": "code",
        "colab": {}
      },
      "source": [
        "class Maxpool2d(Layer):\n",
        "\n",
        "  def __init__(self, *args, **kwargs):\n",
        "    super(Maxpool2d, self).__init__(activation=Linear(), *args, **kwargs)\n",
        "  \n",
        "  def _forward(self, X):\n",
        "    '''Forward pass of the max pooling layer.\n",
        "\n",
        "    :param X: Input matrix\n",
        "    :returns: Matrix (<batch_size> x <height>//2 x <width>//2 x <n_channels>) after max pooling, see the lecture notes for the definition.\n",
        "    '''    \n",
        "    self.mask = np.zeros((X.shape[0], X.shape[1], X.shape[2], X.shape[3]))\n",
        "    new_X = np.zeros((X.shape[0], int(X.shape[1]/2), int(X.shape[2]/2), X.shape[3]))\n",
        "    for i in range(int(X.shape[1]/2)):\n",
        "      for j in range(int(X.shape[1]/2)):\n",
        "        for n in range(X.shape[0]):\n",
        "          for c in range(X.shape[3]):\n",
        "            new_X[n, i, j, c] = np.max(X[n, 2*i:2*i+2, 2*j:2*j+2, c])\n",
        "            pos = np.argmax(X[n, 2*i:2*i+2, 2*j:2*j+2, c])\n",
        "            if (pos == 0):\n",
        "              self.mask[n, 2*i, 2*j, c] = 1\n",
        "            elif (pos == 1):\n",
        "              self.mask[n, 2*i, 2*j+1, c] = 1\n",
        "            elif (pos == 2):\n",
        "              self.mask[n, 2*i+1, 2*j, c] = 1\n",
        "            elif (pos == 3):\n",
        "              self.mask[n, 2*i+1, 2*j+1, c] = 1\n",
        "    return new_X\n",
        "\n",
        "  def _backward(self, dZ):\n",
        "    '''Backward pass of the max pooling layer.\n",
        "    Note: Use self.mask too.\n",
        "\n",
        "    :param dZ: Gradient of the subsequent layer.\n",
        "    :returns: A pair (dX and []) which contains the partial derivative respect to the input and an empty list. See the lecture notes for the \"definition\".\n",
        "    '''\n",
        "    dX = np.zeros((dZ.shape[0], 2*dZ.shape[1], 2*dZ.shape[2], dZ.shape[3]))\n",
        "    for i in range(dZ.shape[1]):\n",
        "      for j in range(dZ.shape[2]):\n",
        "        for n in range(dZ.shape[0]):\n",
        "          for c in range(dZ.shape[3]):\n",
        "            if (self.mask[n, 2*i, 2*j, c] == 1):\n",
        "              dX[n, 2*i, 2*j, c] = dZ[n, i, j, c]\n",
        "              dX[n, 2*i, 2*j+1, c] = 0\n",
        "              dX[n, 2*i+1, 2*j, c] = 0\n",
        "              dX[n, 2*i+1, 2*j+1, c] = 0\n",
        "            elif (self.mask[n, 2*i, 2*j+1, c] == 1):\n",
        "              dX[n, 2*i, 2*j+1, c] = dZ[n, i, j, c]\n",
        "              dX[n, 2*i, 2*j, c] = 0\n",
        "              dX[n, 2*i+1, 2*j, c] = 0\n",
        "              dX[n, 2*i+1, 2*j+1, c] = 0\n",
        "            elif (self.mask[n, 2*i+1, 2*j, c] == 1):\n",
        "              dX[n, 2*i+1, 2*j, c] = dZ[n, i, j, c]\n",
        "              dX[n, 2*i, 2*j+1, c] = 0\n",
        "              dX[n, 2*i, 2*j, c] = 0\n",
        "              dX[n, 2*i+1, 2*j+1, c] = 0\n",
        "            elif (self.mask[n, 2*i+1, 2*j+1, c] == 1):\n",
        "              dX[n, 2*i+1, 2*j+1, c] = dZ[n, i, j, c]\n",
        "              dX[n, 2*i, 2*j+1, c] = 0\n",
        "              dX[n, 2*i+1, 2*j, c] = 0\n",
        "              dX[n, 2*i, 2*j, c] = 0\n",
        "    return dX, []\n",
        "    \n",
        "  def _update_weights(self):\n",
        "    pass"
      ],
      "execution_count": 0,
      "outputs": []
    },
    {
      "cell_type": "markdown",
      "metadata": {
        "id": "KZptff2Age3L",
        "colab_type": "text"
      },
      "source": [
        "### Convolutional layer"
      ]
    },
    {
      "cell_type": "code",
      "metadata": {
        "id": "0Q0AXVEngiDi",
        "colab_type": "code",
        "colab": {}
      },
      "source": [
        "class Conv2d(Layer):\n",
        "  def __init__(self, kernel_size, n_channels, n_kernels, pad, use_fast=False, *args, **kwargs):    \n",
        "    super(Conv2d, self).__init__(*args, **kwargs)\n",
        "    self.W = self.weight_init((kernel_size, kernel_size, n_channels, n_kernels))\n",
        "    self.b = self.weight_init((1, 1, 1, n_kernels))\n",
        "    self.params = [self.W, self.b]\n",
        "    self.pad = pad\n",
        "    self.use_fast = use_fast\n",
        "  \n",
        "  def _convolution_fast(self, Y):\n",
        "    '''Optimized version of the convolution operation (Optional).\n",
        "    Note #1: Use self.X, self.X_padded, self.W\n",
        "    Note #2: There are no return values.\n",
        "    Note #3: It's an optional task.\n",
        "    \n",
        "    :param Y: Destination (output) matrix (image), see the lecture notes for the \"definition\". \n",
        "    '''    \n",
        "    pass\n",
        "    \n",
        "  def _convolution_slow(self, Y):\n",
        "    '''Naive version (with a bunch of for loops) of the convolution operation.\n",
        "    Note #1: Use self.X, self.X_padded, self.W\n",
        "    Note #2: There are no return values.\n",
        "    Note #3: Both convolution and cross-correlation is acceptable.\n",
        "    \n",
        "    :param Y: Destination (output) matrix (image), see the lecture notes for the \"definition\". \n",
        "    '''   \n",
        "    a = int((self.params[0].shape[0]-1)/2)\n",
        "    b = int((self.params[0].shape[1]-1)/2)\n",
        "    c = self.params[0].shape[3]\n",
        "    for k in range(self.params[0].shape[3]):\n",
        "      for z in range(self.X.shape[3]):\n",
        "        for i in range(a, self.X.shape[0]-a):\n",
        "          for j in range(b, self.X.shape[1]-b):\n",
        "            Y[i][j][k] = np.sum(np.multiply(self.X[i-a:i+a+1,j-b:j+b+1,:,z],self.params[0][:,:,:,k]))\n",
        "  \n",
        "  def _forward(self, X):\n",
        "    y_height = X.shape[1] - self.params[0].shape[0] + 2*self.pad + 1\n",
        "    y_width = X.shape[2] - self.params[0].shape[1] + 2*self.pad + 1\n",
        "    Y = np.zeros((X.shape[0], y_height, y_width, self.params[0].shape[3]), dtype=np.float16)\n",
        "    \n",
        "    if 0 < self.pad:\n",
        "      X_padded = np.pad(X, ((0,0),(self.pad,self.pad),(self.pad,self.pad),(0,0)), mode = 'constant')\n",
        "    else:\n",
        "      X_padded = X\n",
        "    self.X_padded = X_padded\n",
        "    \n",
        "    if self.use_fast:\n",
        "      self._convolution_fast(Y)\n",
        "    else:\n",
        "      self._convolution_slow(Y)\n",
        "    \n",
        "    Y += self.b\n",
        "    return Y\n",
        "  \n",
        "  def _backward_fast(self, dZ):\n",
        "    '''Optimized version of the backward pass (Optional).\n",
        "    Note #1: Use self.X, self.X_padded, self.W\n",
        "    Note #2: It's an optional task.\n",
        "    \n",
        "    :param dZ: Gradient of the subsequent layer.\n",
        "    :returns: A pair (dX, dW and db) which contains the partial derivatives respect to the input and to the parameters (W and b). See the lecture notes for the \"definition\".\n",
        "    '''    \n",
        "    db = None\n",
        "    dW = None\n",
        "    dX = None\n",
        "    return dX, dW, db\n",
        "\n",
        "  def _backward_slow(self, dZ):\n",
        "    '''Naive version (with a bunch of for loops) of the backward pass.\n",
        "    Note: Use self.X, self.X_padded, self.W\n",
        "    \n",
        "    :param dZ: Gradient of the subsequent layer.\n",
        "    :returns: A pair (dX, dW and db) which contains the partial derivatives respect to the input and to the parameters (W and b). See the lecture notes for the \"definition\".\n",
        "    '''   \n",
        "    dW = np.zeros((self.params[0].shape), dtype=np.float16)\n",
        "    db = np.zeros((self.params[0].shape), dtype=np.float16)\n",
        "    dX = np.zeros((dZ.shape), dtype=np.float16)\n",
        "\n",
        "    a = int((self.params[0].shape[0]-1)/2)\n",
        "    b = int((self.params[0].shape[1]-1)/2)\n",
        "    c = self.params[0].shape[2]\n",
        "    m = self.X.shape[0]\n",
        "    k = self.params[0].shape[3]\n",
        "    self.X = np.resize(self.X, (dZ.shape))\n",
        "    self.params[1] = np.resize(self.params[1], ((self.params[0].shape)))\n",
        "\n",
        "    dZ = np.transpose(dZ, (1,2,0,3))\n",
        "    self.X = np.transpose(self.X, (1,2,0,3))\n",
        "\n",
        "    for i in range(a, self.X.shape[0] - a):\n",
        "      for j in range(b, self.X.shape[1] - b):\n",
        "        for mi in range(m):\n",
        "          dW = 1/m * np.multiply(self.X[i-a:i+a+1,j-b:j+b+1,mi,:],dZ[i-a:i+a+1,j-b:j+b+1,mi,:])\n",
        "          dW = np.expand_dims(dW, axis=2)\n",
        "\n",
        "    for mi in range(m):\n",
        "      for i in range(self.X.shape[0]):\n",
        "        for j in range(self.X.shape[1]):\n",
        "          db = 1/m * dZ[0:self.params[0].shape[0],0:self.params[0].shape[1],mi,:]\n",
        "          db = np.expand_dims(db, axis=2)\n",
        "\n",
        "    for i in range(a, self.X.shape[0] - a):\n",
        "      for j in range(b, self.X.shape[1] - b):\n",
        "        for mi in range(m):\n",
        "          for ki in range(k):\n",
        "            dX[mi][i][j] = np.sum(np.multiply(dZ[i-a:i+a+1,j-b:j+b+1,:,ki], self.params[0][:,:,:,ki]))\n",
        "\n",
        "    dX = np.resize(dX, (dX.shape[0], dX.shape[1], dX.shape[2], int(dX.shape[3]/2)))\n",
        "\n",
        "    return dX, dW, db\n",
        "  \n",
        "  def _backward(self, dZ):\n",
        "    if self.use_fast:\n",
        "      dX, dW, db = self._backward_fast(dZ)\n",
        "    else:\n",
        "      dX, dW, db = self._backward_slow(dZ)\n",
        "    \n",
        "    return dX, [dW, db]\n",
        "    "
      ],
      "execution_count": 0,
      "outputs": []
    },
    {
      "cell_type": "markdown",
      "metadata": {
        "id": "R4WS-Qljlt10",
        "colab_type": "text"
      },
      "source": [
        "# Model class"
      ]
    },
    {
      "cell_type": "code",
      "metadata": {
        "id": "Zj-9zrgJlwdi",
        "colab_type": "code",
        "colab": {}
      },
      "source": [
        "import matplotlib.pyplot as plt\n",
        "\n",
        "class Model:\n",
        "  def __init__(self, layers=None, loss=None, optimizer=None):\n",
        "    self.layers = []\n",
        "    if layers is not None:\n",
        "      self.layers = layers\n",
        "    self.loss = loss\n",
        "    self.optimizer = optimizer\n",
        "    self.losses = []\n",
        "  \n",
        "  def add(self, layer):\n",
        "    assert isinstance(layer, Layer)\n",
        "    layer.optimizer = self.optimizer\n",
        "    self.layers.append(layer)\n",
        "  \n",
        "  def train(self, x_train, y_train, n_epochs, batch_size, randomize=True, display=True):\n",
        "    self.losses = []   \n",
        "    n_layers = len(self.layers)\n",
        "    for epoch in range(n_epochs):\n",
        "      idx_list = list(range(len(x_train)))\n",
        "      if randomize:\n",
        "        np.random.shuffle(idx_list)\n",
        "      n_batches = (len(idx_list) + batch_size - 1) // batch_size\n",
        "      loss = 0\n",
        "      for batch_idx in range(n_batches):\n",
        "        data = x_train[idx_list[batch_idx * batch_size:(batch_idx + 1) * batch_size]]\n",
        "        \n",
        "        # forward pass\n",
        "        for i in range(n_layers):\n",
        "          data = self.layers[i].forward(X=data)\n",
        "          \n",
        "        # loss\n",
        "        y_pred = data\n",
        "        y_true = y_train[idx_list[batch_idx * batch_size:(batch_idx + 1) * batch_size]].reshape(len(y_pred),1)\n",
        "        batch_loss = self.loss(y_true, y_pred)\n",
        "        loss += batch_loss\n",
        "        \n",
        "        # backward pass\n",
        "        back = [self.loss.backward(y_true,y_pred)]\n",
        "        for i in range(n_layers):\n",
        "          back.append(self.layers[n_layers-1-i].backward(dh=back[i]))\n",
        "\n",
        "        # display\n",
        "        # print('Epoch {}/{}: batch {}/{}: batch_loss: {}, avg_loss: {}'.format(epoch+1, n_epochs, batch_idx+1, n_batches, batch_loss, loss/(batch_idx+1)))  #, end='\\r')\n",
        "      \n",
        "      print('Epoch {}/{}: loss: {}'.format(epoch+1, n_epochs, loss/n_batches))\n",
        "      self.losses.append(loss / n_batches)\n",
        "\n",
        "    if display:\n",
        "      plt.plot(range(n_epochs), self.losses, label='train loss', color='blue')\n",
        "      plt.title('Learning Curve Plot')\n",
        "      plt.xlabel('Number of Epochs')\n",
        "      plt.ylabel('Loss')\n",
        "      plt.show()\n",
        "  \n",
        "  def predict(self, x_test, y_test, display=True):\n",
        "    idx_list = list(range(len(x_test)))\n",
        "    data = x_test[idx_list]\n",
        "\n",
        "    # forward pass\n",
        "    for i in range(len(self.layers)):\n",
        "      data = self.layers[i].forward(data)\n",
        "    \n",
        "    y_pred = data\n",
        "    y_true = y_test[idx_list]\n",
        "\n",
        "    # precision and recall\n",
        "    tp = 0\n",
        "    fp = 0\n",
        "    fn = 0\n",
        "    tn = 0\n",
        "\n",
        "    for y in range(y_pred.shape[0]):\n",
        "      if y_pred[y] > 0.5 and y_true[y] == 1:\n",
        "        tp = tp + 1\n",
        "      elif y_pred[y] < 0.5 and y_true[y] == 1:\n",
        "        fn = fn + 1\n",
        "      elif y_pred[y] > 0.5 and y_true[y] == 0:\n",
        "        fp = fp + 1\n",
        "      else:\n",
        "        tn = tn + 1\n",
        "    \n",
        "    print(\"The number of True Positives is: \" + str(tp))\n",
        "    print(\"The number of False Negatives is: \" + str(fn))\n",
        "    print(\"The number of False Positives is: \" + str(fp))\n",
        "    print(\"The number of True Negatives is: \" + str(tn))\n",
        "\n",
        "    if tp > 0 or fp > 0:\n",
        "      precision = tp / (tp + fp)\n",
        "      print(\"The precision is: \" + str(precision))\n",
        "    else:\n",
        "      print(\"The precision could not be computed\")\n",
        "\n",
        "    if tp > 0 or fn > 0:\n",
        "      recall = tp / (tp + fn)\n",
        "      print(\"The recall is: \" + str(recall))\n",
        "    else:\n",
        "      print(\"The recall could not be computed\")\n",
        "\n",
        "    if tp > 0 or fn > 0 or tn > 0 or fp > 0:\n",
        "      accuracy = (tp + tn) / (fp + fn + tp + tn)\n",
        "      print(\"The accuracy is: \" + str(accuracy))\n",
        "    else:\n",
        "      print(\"The accuracy could not be computed\")"
      ],
      "execution_count": 0,
      "outputs": []
    },
    {
      "cell_type": "markdown",
      "metadata": {
        "id": "2BzvGvB8mxRc",
        "colab_type": "text"
      },
      "source": [
        "# Breast Cancer Wisconsin (Diagnostic) Dataset\n",
        "\n",
        "For more information, see: https://archive.ics.uci.edu/ml/datasets/Breast+Cancer+Wisconsin+(Diagnostic)"
      ]
    },
    {
      "cell_type": "code",
      "metadata": {
        "id": "vTviPyJjnGGK",
        "colab_type": "code",
        "outputId": "c4e947c7-654c-44ba-ef0e-c7aab404a51a",
        "colab": {
          "base_uri": "https://localhost:8080/",
          "height": 202
        }
      },
      "source": [
        "!wget https://archive.ics.uci.edu/ml/machine-learning-databases/breast-cancer-wisconsin/wdbc.data"
      ],
      "execution_count": 14,
      "outputs": [
        {
          "output_type": "stream",
          "text": [
            "--2019-12-11 13:05:34--  https://archive.ics.uci.edu/ml/machine-learning-databases/breast-cancer-wisconsin/wdbc.data\n",
            "Resolving archive.ics.uci.edu (archive.ics.uci.edu)... 128.195.10.252\n",
            "Connecting to archive.ics.uci.edu (archive.ics.uci.edu)|128.195.10.252|:443... connected.\n",
            "HTTP request sent, awaiting response... 200 OK\n",
            "Length: 124103 (121K) [application/x-httpd-php]\n",
            "Saving to: ‘wdbc.data’\n",
            "\n",
            "\rwdbc.data             0%[                    ]       0  --.-KB/s               \rwdbc.data           100%[===================>] 121.19K  --.-KB/s    in 0.09s   \n",
            "\n",
            "2019-12-11 13:05:34 (1.33 MB/s) - ‘wdbc.data’ saved [124103/124103]\n",
            "\n"
          ],
          "name": "stdout"
        }
      ]
    },
    {
      "cell_type": "code",
      "metadata": {
        "id": "ZwcGuHl4nFcT",
        "colab_type": "code",
        "outputId": "e61d0596-d8ba-4106-eed0-95e778417e61",
        "colab": {
          "base_uri": "https://localhost:8080/",
          "height": 50
        }
      },
      "source": [
        "filename = 'wdbc.data'\n",
        "\n",
        "with open(filename, 'r') as file:\n",
        "  lines = file.readlines()\n",
        "  \n",
        "words = [line.split(',') for line in lines]\n",
        "data = words[:-1]\n",
        "\n",
        "features = [[float(item) for item in rec[2:]] for rec in data]\n",
        "features = np.array(features, dtype=np.float32)\n",
        "\n",
        "label_str_to_num = lambda label: 1. if label == 'M' else 0.\n",
        "labels = [label_str_to_num(rec[1]) for rec in data]\n",
        "labels = np.array(labels, dtype=np.float32)\n",
        "\n",
        "# removing records with missing features (if any feature == 0.)\n",
        "missing_features = np.any(features == 0., axis=1)\n",
        "features = features[~missing_features,:]\n",
        "labels = labels[~missing_features]\n",
        "\n",
        "print(features.shape)\n",
        "print(labels.shape)"
      ],
      "execution_count": 15,
      "outputs": [
        {
          "output_type": "stream",
          "text": [
            "(556, 30)\n",
            "(556,)\n"
          ],
          "name": "stdout"
        }
      ]
    },
    {
      "cell_type": "markdown",
      "metadata": {
        "id": "81mWfZDknrC7",
        "colab_type": "text"
      },
      "source": [
        "## Data exploration and Pre-processing\n",
        "Tasks:\n",
        "* Print the distribution of the labels.\n",
        "* Print the scales of each features. (min, max, avg, std)\n",
        "* Randomly split the dataset to training and test sets. (Ratio should be 80-20.)\n",
        "  * After splitting make sure that the distribution of the labels are similar. (Print the distribution of the labels.)\n",
        "* Normalize the data by each feature. (Use Z-score standardization.)"
      ]
    },
    {
      "cell_type": "markdown",
      "metadata": {
        "id": "XCKK-i-C62l0",
        "colab_type": "text"
      },
      "source": [
        "Print labels distribution"
      ]
    },
    {
      "cell_type": "code",
      "metadata": {
        "id": "aakEtt2crhFD",
        "colab_type": "code",
        "outputId": "5eaac6fb-4138-47ea-d938-1630661080ba",
        "colab": {
          "base_uri": "https://localhost:8080/",
          "height": 67
        }
      },
      "source": [
        "print(\"Number of instances is \"+ str(len(labels)))\n",
        "print(\"Number of instances whose label is 1: \" +str(len(labels[labels==1])))\n",
        "print(\"Number of instances whose label is 0: \" +str(len(labels[labels==0])))"
      ],
      "execution_count": 16,
      "outputs": [
        {
          "output_type": "stream",
          "text": [
            "Number of instances is 556\n",
            "Number of instances whose label is 1: 212\n",
            "Number of instances whose label is 0: 344\n"
          ],
          "name": "stdout"
        }
      ]
    },
    {
      "cell_type": "markdown",
      "metadata": {
        "id": "o7-Pk4cu69G7",
        "colab_type": "text"
      },
      "source": [
        "Print the scales of each features. (min, max, avg, std)"
      ]
    },
    {
      "cell_type": "code",
      "metadata": {
        "id": "04c4f4Ts69Qa",
        "colab_type": "code",
        "outputId": "66a50765-3ec6-4928-a73a-7a652ba4cb15",
        "colab": {
          "base_uri": "https://localhost:8080/",
          "height": 504
        }
      },
      "source": [
        "print(\"Number of features is \"+ str(features.shape[1]))\n",
        "print(\"The maximum value for each of the features is the following:\")\n",
        "print(np.max(features, axis=0))\n",
        "print(\"The minimum value for each of the features is the following:\")\n",
        "print(np.min(features, axis=0))\n",
        "print(\"The average value for each of the features is the following:\")\n",
        "print(np.average(features, axis=0))\n",
        "print(\"The standard deviation for each of the features is the following:\")\n",
        "print(np.std(features, axis=0))"
      ],
      "execution_count": 17,
      "outputs": [
        {
          "output_type": "stream",
          "text": [
            "Number of features is 30\n",
            "The maximum value for each of the features is the following:\n",
            "[2.811e+01 3.928e+01 1.885e+02 2.501e+03 1.634e-01 3.454e-01 4.268e-01\n",
            " 2.012e-01 3.040e-01 9.744e-02 2.873e+00 3.568e+00 2.198e+01 5.422e+02\n",
            " 3.113e-02 1.354e-01 3.960e-01 5.279e-02 7.895e-02 2.984e-02 3.604e+01\n",
            " 4.954e+01 2.512e+02 4.254e+03 2.226e-01 1.058e+00 1.252e+00 2.910e-01\n",
            " 6.638e-01 2.075e-01]\n",
            "The minimum value for each of the features is the following:\n",
            "[7.691e+00 9.710e+00 4.834e+01 1.704e+02 6.251e-02 1.938e-02 6.920e-04\n",
            " 1.852e-03 1.167e-01 4.996e-02 1.115e-01 3.602e-01 7.570e-01 6.802e+00\n",
            " 2.667e-03 2.252e-03 6.920e-04 1.852e-03 7.882e-03 8.948e-04 8.678e+00\n",
            " 1.202e+01 5.449e+01 2.236e+02 8.125e-02 3.432e-02 1.845e-03 8.772e-03\n",
            " 1.565e-01 5.504e-02]\n",
            "The average value for each of the features is the following:\n",
            "[1.42375622e+01 1.92597542e+01 9.27366486e+01 6.63734619e+02\n",
            " 9.66164544e-02 1.05678819e-01 9.08755139e-02 5.00629507e-02\n",
            " 1.81278139e-01 6.27464801e-02 4.06446695e-01 1.19292939e+00\n",
            " 2.87969422e+00 4.07949562e+01 6.97476324e-03 2.58421041e-02\n",
            " 3.26394513e-02 1.20719541e-02 2.03136448e-02 3.79895442e-03\n",
            " 1.64076843e+01 2.56793976e+01 1.08242889e+02 8.93412415e+02\n",
            " 1.32824510e-01 2.58471489e-01 2.78552532e-01 1.17285915e-01\n",
            " 2.90801853e-01 8.41410607e-02]\n",
            "The standard deviation for each of the features is the following:\n",
            "[3.4790368e+00 4.2431712e+00 2.3984756e+01 3.5057761e+02 1.3882796e-02\n",
            " 5.2595191e-02 7.9396039e-02 3.8482405e-02 2.7420815e-02 7.0526535e-03\n",
            " 2.7973637e-01 4.9908161e-01 2.0391252e+00 4.5866802e+01 2.9220604e-03\n",
            " 1.7930541e-02 3.0108549e-02 5.9636049e-03 8.0649750e-03 2.6581758e-03\n",
            " 4.7933788e+00 6.1002498e+00 3.3307045e+01 5.6898065e+02 2.2595895e-02\n",
            " 1.5652160e-01 2.0661730e-01 6.4028978e-02 6.1971109e-02 1.8113621e-02]\n"
          ],
          "name": "stdout"
        }
      ]
    },
    {
      "cell_type": "markdown",
      "metadata": {
        "id": "D_G1BgZs7NmZ",
        "colab_type": "text"
      },
      "source": [
        "Randomly split the dataset to training and test sets. Ratio should be 80% for training and 20% for testing."
      ]
    },
    {
      "cell_type": "code",
      "metadata": {
        "id": "8afIcRew7Nyq",
        "colab_type": "code",
        "colab": {}
      },
      "source": [
        "from sklearn.model_selection import train_test_split\n",
        "features_tr, features_te, labels_tr, labels_te = train_test_split(features, labels, test_size=0.20)"
      ],
      "execution_count": 0,
      "outputs": []
    },
    {
      "cell_type": "markdown",
      "metadata": {
        "id": "R5Oy1TN77OAS",
        "colab_type": "text"
      },
      "source": [
        "Make sure that the distribution of the labels is similar. Print the distribution of the labels."
      ]
    },
    {
      "cell_type": "code",
      "metadata": {
        "id": "dPkQDoP67OIy",
        "colab_type": "code",
        "outputId": "fd8336ad-0f5b-445b-abbb-dcf7150fa293",
        "colab": {
          "base_uri": "https://localhost:8080/",
          "height": 84
        }
      },
      "source": [
        "print(\"Number of instances whose label is 1 (in train set): \" + str(len(labels_tr[labels_tr==1])))\n",
        "print(\"Number of instances whose label is 0 (in train set): \" + str(len(labels_tr[labels_tr==0])))\n",
        "print(\"Number of instances whose label is 1 (in test set): \" + str(len(labels_te[labels_te==1])))\n",
        "print(\"Number of instances whose label is 0 (in test set): \" + str(len(labels_te[labels_te==0])))"
      ],
      "execution_count": 19,
      "outputs": [
        {
          "output_type": "stream",
          "text": [
            "Number of instances whose label is 1 (in train set): 171\n",
            "Number of instances whose label is 0 (in train set): 273\n",
            "Number of instances whose label is 1 (in test set): 41\n",
            "Number of instances whose label is 0 (in test set): 71\n"
          ],
          "name": "stdout"
        }
      ]
    },
    {
      "cell_type": "markdown",
      "metadata": {
        "id": "lTOxgiF_7j2q",
        "colab_type": "text"
      },
      "source": [
        "Normalize the data by each feature, using Z-score standardization."
      ]
    },
    {
      "cell_type": "code",
      "metadata": {
        "id": "8L64NmH3umrO",
        "colab_type": "code",
        "colab": {}
      },
      "source": [
        "from scipy import stats\n",
        "for i in range(features_tr.shape[1]):\n",
        "  features_tr[:,i] = stats.zscore(features_tr[:,i])\n",
        "  features_te[:,i] = stats.zscore(features_te[:,i])"
      ],
      "execution_count": 0,
      "outputs": []
    },
    {
      "cell_type": "markdown",
      "metadata": {
        "id": "Z8zz9YlvpGoF",
        "colab_type": "text"
      },
      "source": [
        "## Define and train a model.\n",
        "Tasks:\n",
        "* Define a 2 layer fully-connected network:\n",
        "  1. layer with 5 units and ReLU activation.\n",
        "  2. layer with 1 units and Sigmoid activation.\n",
        "* Train it for 500 epochs with a batch size of 16 using SGD optimizer with learning rate of 0.01.\n",
        "* Plot the learning curve.\n",
        "  * Summmarize in a few words what you see. (Presence of overfitting, underfitting, ...)\n",
        "* Evaluate the trained model on the test set. (Loss, accuracy, precision, recall)"
      ]
    },
    {
      "cell_type": "code",
      "metadata": {
        "id": "XAw51sN0riJK",
        "colab_type": "code",
        "colab": {}
      },
      "source": [
        "np.random.seed(20)"
      ],
      "execution_count": 0,
      "outputs": []
    },
    {
      "cell_type": "markdown",
      "metadata": {
        "id": "g364oj0ZaGBJ",
        "colab_type": "text"
      },
      "source": [
        "Define a 2 layer fully-connected network:\n",
        "\n",
        "1.   Layer with 5 units and ReLU activation.\n",
        "2.   Layer with 1 units and Sigmoid activation."
      ]
    },
    {
      "cell_type": "markdown",
      "metadata": {
        "id": "YNA6hTO1aXrq",
        "colab_type": "text"
      },
      "source": [
        "Train it for 500 epochs with a batch size of 16 using SGD optimizer with learning rate of 0.01. Plot the learning curve."
      ]
    },
    {
      "cell_type": "code",
      "metadata": {
        "id": "GWKUBb0caX0I",
        "colab_type": "code",
        "outputId": "9afbccfb-f2dd-4f98-c783-bca22733efa4",
        "colab": {
          "base_uri": "https://localhost:8080/",
          "height": 1000
        }
      },
      "source": [
        "model = Model(layers=None, loss=BinaryCrossentropy(), optimizer=SGD(learning_rate=0.01))\n",
        "model.add(Dense([features_tr.shape[1], 5], Relu()))\n",
        "model.add(Dense([5, 1], Sigmoid()))\n",
        "model.train(features_tr, labels_tr, 500, 16)"
      ],
      "execution_count": 22,
      "outputs": [
        {
          "output_type": "stream",
          "text": [
            "Epoch 1/500: loss: 0.39869742433049415\n",
            "Epoch 2/500: loss: 0.3796339386343589\n",
            "Epoch 3/500: loss: 0.3632766903510213\n",
            "Epoch 4/500: loss: 0.3476009294860561\n",
            "Epoch 5/500: loss: 0.3336741156860807\n",
            "Epoch 6/500: loss: 0.3206209042247418\n",
            "Epoch 7/500: loss: 0.308063255051714\n",
            "Epoch 8/500: loss: 0.2970070883096348\n",
            "Epoch 9/500: loss: 0.28724026222144483\n",
            "Epoch 10/500: loss: 0.2766288040428052\n",
            "Epoch 11/500: loss: 0.2667118394208182\n",
            "Epoch 12/500: loss: 0.257057617159338\n",
            "Epoch 13/500: loss: 0.24781020710934995\n",
            "Epoch 14/500: loss: 0.23957838008000043\n",
            "Epoch 15/500: loss: 0.23091366420630063\n",
            "Epoch 16/500: loss: 0.22322909962648557\n",
            "Epoch 17/500: loss: 0.21516287114905144\n",
            "Epoch 18/500: loss: 0.20788864483770622\n",
            "Epoch 19/500: loss: 0.20092472673650222\n",
            "Epoch 20/500: loss: 0.19454965907339578\n",
            "Epoch 21/500: loss: 0.18817872870301544\n",
            "Epoch 22/500: loss: 0.18205580770200408\n",
            "Epoch 23/500: loss: 0.17651817083126775\n",
            "Epoch 24/500: loss: 0.17139577051002883\n",
            "Epoch 25/500: loss: 0.166588032313744\n",
            "Epoch 26/500: loss: 0.1617880690542284\n",
            "Epoch 27/500: loss: 0.15689433515936826\n",
            "Epoch 28/500: loss: 0.15316694141113962\n",
            "Epoch 29/500: loss: 0.1491052519352082\n",
            "Epoch 30/500: loss: 0.14575668683841733\n",
            "Epoch 31/500: loss: 0.14246417870356137\n",
            "Epoch 32/500: loss: 0.13914254609024623\n",
            "Epoch 33/500: loss: 0.13598611769939636\n",
            "Epoch 34/500: loss: 0.13290603680303248\n",
            "Epoch 35/500: loss: 0.1305048222510469\n",
            "Epoch 36/500: loss: 0.12825932358261796\n",
            "Epoch 37/500: loss: 0.12580429420838254\n",
            "Epoch 38/500: loss: 0.1235726211955779\n",
            "Epoch 39/500: loss: 0.12079234310574614\n",
            "Epoch 40/500: loss: 0.11915853458398909\n",
            "Epoch 41/500: loss: 0.11741031462917903\n",
            "Epoch 42/500: loss: 0.11511559728054979\n",
            "Epoch 43/500: loss: 0.11317301393284941\n",
            "Epoch 44/500: loss: 0.1119589459125996\n",
            "Epoch 45/500: loss: 0.10952343674675676\n",
            "Epoch 46/500: loss: 0.10801632306852409\n",
            "Epoch 47/500: loss: 0.10692989570757185\n",
            "Epoch 48/500: loss: 0.10500727529596954\n",
            "Epoch 49/500: loss: 0.10372279868864896\n",
            "Epoch 50/500: loss: 0.10263559186225855\n",
            "Epoch 51/500: loss: 0.10127811168498817\n",
            "Epoch 52/500: loss: 0.09994343117087812\n",
            "Epoch 53/500: loss: 0.09875519654671479\n",
            "Epoch 54/500: loss: 0.09767068733234548\n",
            "Epoch 55/500: loss: 0.09644731615051252\n",
            "Epoch 56/500: loss: 0.09556103581847057\n",
            "Epoch 57/500: loss: 0.09414819322042711\n",
            "Epoch 58/500: loss: 0.09312404902147402\n",
            "Epoch 59/500: loss: 0.09210834827861501\n",
            "Epoch 60/500: loss: 0.09137371961729376\n",
            "Epoch 61/500: loss: 0.0903532637139389\n",
            "Epoch 62/500: loss: 0.0897477813160921\n",
            "Epoch 63/500: loss: 0.0889005157894029\n",
            "Epoch 64/500: loss: 0.0877791478875343\n",
            "Epoch 65/500: loss: 0.08687546776129822\n",
            "Epoch 66/500: loss: 0.0861035387473635\n",
            "Epoch 67/500: loss: 0.08535239544201922\n",
            "Epoch 68/500: loss: 0.08449282625003075\n",
            "Epoch 69/500: loss: 0.08443869600900163\n",
            "Epoch 70/500: loss: 0.08314702988114724\n",
            "Epoch 71/500: loss: 0.0820600063907702\n",
            "Epoch 72/500: loss: 0.08166346111247748\n",
            "Epoch 73/500: loss: 0.08097506425043742\n",
            "Epoch 74/500: loss: 0.08045400103303288\n",
            "Epoch 75/500: loss: 0.0798154568419285\n",
            "Epoch 76/500: loss: 0.07933204923320561\n",
            "Epoch 77/500: loss: 0.07964769335921275\n",
            "Epoch 78/500: loss: 0.07810812958727142\n",
            "Epoch 79/500: loss: 0.07753990474361269\n",
            "Epoch 80/500: loss: 0.07698141038640995\n",
            "Epoch 81/500: loss: 0.07646502898911342\n",
            "Epoch 82/500: loss: 0.07564652251474094\n",
            "Epoch 83/500: loss: 0.07517294819303941\n",
            "Epoch 84/500: loss: 0.07477256111312432\n",
            "Epoch 85/500: loss: 0.07432684107297848\n",
            "Epoch 86/500: loss: 0.07385138477294492\n",
            "Epoch 87/500: loss: 0.07329727634151284\n",
            "Epoch 88/500: loss: 0.07321461849772144\n",
            "Epoch 89/500: loss: 0.07256739132809623\n",
            "Epoch 90/500: loss: 0.07197612109920348\n",
            "Epoch 91/500: loss: 0.0714911026599656\n",
            "Epoch 92/500: loss: 0.07078235198659857\n",
            "Epoch 93/500: loss: 0.07152864289750822\n",
            "Epoch 94/500: loss: 0.07021579595480161\n",
            "Epoch 95/500: loss: 0.06959595330472433\n",
            "Epoch 96/500: loss: 0.06910377925013143\n",
            "Epoch 97/500: loss: 0.0691978265508352\n",
            "Epoch 98/500: loss: 0.06878094502337778\n",
            "Epoch 99/500: loss: 0.06811560373775592\n",
            "Epoch 100/500: loss: 0.0679046438773721\n",
            "Epoch 101/500: loss: 0.06764123984079089\n",
            "Epoch 102/500: loss: 0.06686565306843904\n",
            "Epoch 103/500: loss: 0.06671235821375134\n",
            "Epoch 104/500: loss: 0.06609523767799086\n",
            "Epoch 105/500: loss: 0.06616607302827877\n",
            "Epoch 106/500: loss: 0.0656127107440352\n",
            "Epoch 107/500: loss: 0.06532881281667018\n",
            "Epoch 108/500: loss: 0.06551402168646325\n",
            "Epoch 109/500: loss: 0.06459015652115155\n",
            "Epoch 110/500: loss: 0.06414181127793891\n",
            "Epoch 111/500: loss: 0.06376552888301798\n",
            "Epoch 112/500: loss: 0.06370212435543686\n",
            "Epoch 113/500: loss: 0.0632060711712292\n",
            "Epoch 114/500: loss: 0.06279464603092352\n",
            "Epoch 115/500: loss: 0.06264957142279738\n",
            "Epoch 116/500: loss: 0.06216341281331407\n",
            "Epoch 117/500: loss: 0.06193593993501599\n",
            "Epoch 118/500: loss: 0.06217042331406054\n",
            "Epoch 119/500: loss: 0.06202696532008505\n",
            "Epoch 120/500: loss: 0.061167021852895916\n",
            "Epoch 121/500: loss: 0.06151462411721271\n",
            "Epoch 122/500: loss: 0.06071989728219546\n",
            "Epoch 123/500: loss: 0.06019692811415155\n",
            "Epoch 124/500: loss: 0.060003851053166676\n",
            "Epoch 125/500: loss: 0.059743723262485775\n",
            "Epoch 126/500: loss: 0.0597252545630808\n",
            "Epoch 127/500: loss: 0.05996067220573588\n",
            "Epoch 128/500: loss: 0.05913487459791753\n",
            "Epoch 129/500: loss: 0.058759591165862206\n",
            "Epoch 130/500: loss: 0.058768360969632824\n",
            "Epoch 131/500: loss: 0.05818241667565619\n",
            "Epoch 132/500: loss: 0.05821470649826556\n",
            "Epoch 133/500: loss: 0.05800587500521797\n",
            "Epoch 134/500: loss: 0.05765248381852967\n",
            "Epoch 135/500: loss: 0.05741626106156215\n",
            "Epoch 136/500: loss: 0.057283817632325866\n",
            "Epoch 137/500: loss: 0.056877021272784045\n",
            "Epoch 138/500: loss: 0.05693232928388068\n",
            "Epoch 139/500: loss: 0.057136014208561604\n",
            "Epoch 140/500: loss: 0.05653070529553158\n",
            "Epoch 141/500: loss: 0.056602341501373\n",
            "Epoch 142/500: loss: 0.05605749803459246\n",
            "Epoch 143/500: loss: 0.05556399147139768\n",
            "Epoch 144/500: loss: 0.05637842301311095\n",
            "Epoch 145/500: loss: 0.055441029742428496\n",
            "Epoch 146/500: loss: 0.055353878840989475\n",
            "Epoch 147/500: loss: 0.0549368124342114\n",
            "Epoch 148/500: loss: 0.0547214841263925\n",
            "Epoch 149/500: loss: 0.05455675859933686\n",
            "Epoch 150/500: loss: 0.05437132626699227\n",
            "Epoch 151/500: loss: 0.05399982608015769\n",
            "Epoch 152/500: loss: 0.05470209413388978\n",
            "Epoch 153/500: loss: 0.05367090772332185\n",
            "Epoch 154/500: loss: 0.05377635740414488\n",
            "Epoch 155/500: loss: 0.05387747905748342\n",
            "Epoch 156/500: loss: 0.05327157757844613\n",
            "Epoch 157/500: loss: 0.05324507747505227\n",
            "Epoch 158/500: loss: 0.052953268074679496\n",
            "Epoch 159/500: loss: 0.05269658457924996\n",
            "Epoch 160/500: loss: 0.05302667522203858\n",
            "Epoch 161/500: loss: 0.05238670844459178\n",
            "Epoch 162/500: loss: 0.052644177150142635\n",
            "Epoch 163/500: loss: 0.05200585467537057\n",
            "Epoch 164/500: loss: 0.051816142119310196\n",
            "Epoch 165/500: loss: 0.05185908295267249\n",
            "Epoch 166/500: loss: 0.05178318695538155\n",
            "Epoch 167/500: loss: 0.05160278593611766\n",
            "Epoch 168/500: loss: 0.051310723300200034\n",
            "Epoch 169/500: loss: 0.05100697551354531\n",
            "Epoch 170/500: loss: 0.05098762025198179\n",
            "Epoch 171/500: loss: 0.05142059394303687\n",
            "Epoch 172/500: loss: 0.05131247231512628\n",
            "Epoch 173/500: loss: 0.050863847530809254\n",
            "Epoch 174/500: loss: 0.05053809044922236\n",
            "Epoch 175/500: loss: 0.05023647545361363\n",
            "Epoch 176/500: loss: 0.05023571354959221\n",
            "Epoch 177/500: loss: 0.05008229991129586\n",
            "Epoch 178/500: loss: 0.05081501429428615\n",
            "Epoch 179/500: loss: 0.04988556560535367\n",
            "Epoch 180/500: loss: 0.049500974697276635\n",
            "Epoch 181/500: loss: 0.049404799577424496\n",
            "Epoch 182/500: loss: 0.04993151803261984\n",
            "Epoch 183/500: loss: 0.049130436343670585\n",
            "Epoch 184/500: loss: 0.05037588891594214\n",
            "Epoch 185/500: loss: 0.04900737150346574\n",
            "Epoch 186/500: loss: 0.04914344837569811\n",
            "Epoch 187/500: loss: 0.049176241765431415\n",
            "Epoch 188/500: loss: 0.04854349754219125\n",
            "Epoch 189/500: loss: 0.04830978508592611\n",
            "Epoch 190/500: loss: 0.04908958033639783\n",
            "Epoch 191/500: loss: 0.048307776894581954\n",
            "Epoch 192/500: loss: 0.04792539786419668\n",
            "Epoch 193/500: loss: 0.04824600942850531\n",
            "Epoch 194/500: loss: 0.04790762498016804\n",
            "Epoch 195/500: loss: 0.048682478536898895\n",
            "Epoch 196/500: loss: 0.04748073912795788\n",
            "Epoch 197/500: loss: 0.04799326916973273\n",
            "Epoch 198/500: loss: 0.0475446387634443\n",
            "Epoch 199/500: loss: 0.04752959533047095\n",
            "Epoch 200/500: loss: 0.04732553374859226\n",
            "Epoch 201/500: loss: 0.046958354832683256\n",
            "Epoch 202/500: loss: 0.046987043005113485\n",
            "Epoch 203/500: loss: 0.046653074371935485\n",
            "Epoch 204/500: loss: 0.046905843399646936\n",
            "Epoch 205/500: loss: 0.046887780894697306\n",
            "Epoch 206/500: loss: 0.046576094921639284\n",
            "Epoch 207/500: loss: 0.046468168094368614\n",
            "Epoch 208/500: loss: 0.04631413720132207\n",
            "Epoch 209/500: loss: 0.04610984576962096\n",
            "Epoch 210/500: loss: 0.0461788765100466\n",
            "Epoch 211/500: loss: 0.045813485639909536\n",
            "Epoch 212/500: loss: 0.04580008222810115\n",
            "Epoch 213/500: loss: 0.0455760528673267\n",
            "Epoch 214/500: loss: 0.04556513841173155\n",
            "Epoch 215/500: loss: 0.04556148903050964\n",
            "Epoch 216/500: loss: 0.04522145172855526\n",
            "Epoch 217/500: loss: 0.04647933486843057\n",
            "Epoch 218/500: loss: 0.04507707527551881\n",
            "Epoch 219/500: loss: 0.04500783417239037\n",
            "Epoch 220/500: loss: 0.04489687012148913\n",
            "Epoch 221/500: loss: 0.04553464626435758\n",
            "Epoch 222/500: loss: 0.04470480311919476\n",
            "Epoch 223/500: loss: 0.044625688334176364\n",
            "Epoch 224/500: loss: 0.04527522955093178\n",
            "Epoch 225/500: loss: 0.044605274779033935\n",
            "Epoch 226/500: loss: 0.04434033535520147\n",
            "Epoch 227/500: loss: 0.04433558010195512\n",
            "Epoch 228/500: loss: 0.04399578804756003\n",
            "Epoch 229/500: loss: 0.044089030254121905\n",
            "Epoch 230/500: loss: 0.04404460347207154\n",
            "Epoch 231/500: loss: 0.043756127631608195\n",
            "Epoch 232/500: loss: 0.04371445777316021\n",
            "Epoch 233/500: loss: 0.04362875188051286\n",
            "Epoch 234/500: loss: 0.04396744137049085\n",
            "Epoch 235/500: loss: 0.04367527148382187\n",
            "Epoch 236/500: loss: 0.04359351689947543\n",
            "Epoch 237/500: loss: 0.04376659537019045\n",
            "Epoch 238/500: loss: 0.04401257337325349\n",
            "Epoch 239/500: loss: 0.04304086817281836\n",
            "Epoch 240/500: loss: 0.04309089736655458\n",
            "Epoch 241/500: loss: 0.04298372051522985\n",
            "Epoch 242/500: loss: 0.04293060498393735\n",
            "Epoch 243/500: loss: 0.042925061037663345\n",
            "Epoch 244/500: loss: 0.04277506563931436\n",
            "Epoch 245/500: loss: 0.04256735231184292\n",
            "Epoch 246/500: loss: 0.04269565962829554\n",
            "Epoch 247/500: loss: 0.04249856660390196\n",
            "Epoch 248/500: loss: 0.0423608122788779\n",
            "Epoch 249/500: loss: 0.042693737186999016\n",
            "Epoch 250/500: loss: 0.04264200136446703\n",
            "Epoch 251/500: loss: 0.04314086299965181\n",
            "Epoch 252/500: loss: 0.04198821059781789\n",
            "Epoch 253/500: loss: 0.04252416486566525\n",
            "Epoch 254/500: loss: 0.042177345094190064\n",
            "Epoch 255/500: loss: 0.042365164254249646\n",
            "Epoch 256/500: loss: 0.04196511443914514\n",
            "Epoch 257/500: loss: 0.04171371091984432\n",
            "Epoch 258/500: loss: 0.041710791919541024\n",
            "Epoch 259/500: loss: 0.04136090712434652\n",
            "Epoch 260/500: loss: 0.04198851450762743\n",
            "Epoch 261/500: loss: 0.0413387595623143\n",
            "Epoch 262/500: loss: 0.041928870759527274\n",
            "Epoch 263/500: loss: 0.041496297464144453\n",
            "Epoch 264/500: loss: 0.041172905066813516\n",
            "Epoch 265/500: loss: 0.04118132947697922\n",
            "Epoch 266/500: loss: 0.041275318269131764\n",
            "Epoch 267/500: loss: 0.040977216753025104\n",
            "Epoch 268/500: loss: 0.04093146883031926\n",
            "Epoch 269/500: loss: 0.04101177912846119\n",
            "Epoch 270/500: loss: 0.04080996043336527\n",
            "Epoch 271/500: loss: 0.04076693888253008\n",
            "Epoch 272/500: loss: 0.040780834260819875\n",
            "Epoch 273/500: loss: 0.04062053844543732\n",
            "Epoch 274/500: loss: 0.040649250356238446\n",
            "Epoch 275/500: loss: 0.04043305181798303\n",
            "Epoch 276/500: loss: 0.040528278096197135\n",
            "Epoch 277/500: loss: 0.04028807293360598\n",
            "Epoch 278/500: loss: 0.04005858417427569\n",
            "Epoch 279/500: loss: 0.04071189340414559\n",
            "Epoch 280/500: loss: 0.04011431275076731\n",
            "Epoch 281/500: loss: 0.04011512846061259\n",
            "Epoch 282/500: loss: 0.039762568529093066\n",
            "Epoch 283/500: loss: 0.03977869400728052\n",
            "Epoch 284/500: loss: 0.039719202679359696\n",
            "Epoch 285/500: loss: 0.03975208895266293\n",
            "Epoch 286/500: loss: 0.03987497714915683\n",
            "Epoch 287/500: loss: 0.03954297654658958\n",
            "Epoch 288/500: loss: 0.039453082215018594\n",
            "Epoch 289/500: loss: 0.03937116799007616\n",
            "Epoch 290/500: loss: 0.03949841107007308\n",
            "Epoch 291/500: loss: 0.039388251374368\n",
            "Epoch 292/500: loss: 0.03921292880400127\n",
            "Epoch 293/500: loss: 0.03911057162676463\n",
            "Epoch 294/500: loss: 0.03926764807498876\n",
            "Epoch 295/500: loss: 0.03906024648444284\n",
            "Epoch 296/500: loss: 0.039382777917262225\n",
            "Epoch 297/500: loss: 0.03907609460681387\n",
            "Epoch 298/500: loss: 0.039079450579913556\n",
            "Epoch 299/500: loss: 0.039490440881561985\n",
            "Epoch 300/500: loss: 0.038921572776945614\n",
            "Epoch 301/500: loss: 0.038638453473300284\n",
            "Epoch 302/500: loss: 0.03856812616929949\n",
            "Epoch 303/500: loss: 0.038536196110812\n",
            "Epoch 304/500: loss: 0.03845747894537771\n",
            "Epoch 305/500: loss: 0.038663758352008026\n",
            "Epoch 306/500: loss: 0.03853751708035964\n",
            "Epoch 307/500: loss: 0.03870725177019424\n",
            "Epoch 308/500: loss: 0.0381692575915174\n",
            "Epoch 309/500: loss: 0.038419841373900455\n",
            "Epoch 310/500: loss: 0.038730308412026196\n",
            "Epoch 311/500: loss: 0.038202289222474775\n",
            "Epoch 312/500: loss: 0.03832346829829104\n",
            "Epoch 313/500: loss: 0.03814922310839673\n",
            "Epoch 314/500: loss: 0.0383157049028376\n",
            "Epoch 315/500: loss: 0.03791262886547337\n",
            "Epoch 316/500: loss: 0.03791629910263692\n",
            "Epoch 317/500: loss: 0.0376788001168625\n",
            "Epoch 318/500: loss: 0.037712214205864625\n",
            "Epoch 319/500: loss: 0.037619319873438806\n",
            "Epoch 320/500: loss: 0.03809991804480373\n",
            "Epoch 321/500: loss: 0.0375515077628476\n",
            "Epoch 322/500: loss: 0.03764764123318632\n",
            "Epoch 323/500: loss: 0.037553991528427755\n",
            "Epoch 324/500: loss: 0.037465998297979766\n",
            "Epoch 325/500: loss: 0.03728739611499038\n",
            "Epoch 326/500: loss: 0.03726209098418417\n",
            "Epoch 327/500: loss: 0.03724112864991059\n",
            "Epoch 328/500: loss: 0.03719273340015372\n",
            "Epoch 329/500: loss: 0.03716480760355512\n",
            "Epoch 330/500: loss: 0.03706877185704031\n",
            "Epoch 331/500: loss: 0.03732068602472061\n",
            "Epoch 332/500: loss: 0.037866485254916246\n",
            "Epoch 333/500: loss: 0.03698820279880603\n",
            "Epoch 334/500: loss: 0.037137019330680206\n",
            "Epoch 335/500: loss: 0.03724974749289258\n",
            "Epoch 336/500: loss: 0.037350072048610905\n",
            "Epoch 337/500: loss: 0.036742125161677956\n",
            "Epoch 338/500: loss: 0.0367035279721032\n",
            "Epoch 339/500: loss: 0.036644799914371515\n",
            "Epoch 340/500: loss: 0.036580566803404525\n",
            "Epoch 341/500: loss: 0.03649950688446787\n",
            "Epoch 342/500: loss: 0.03651617682967294\n",
            "Epoch 343/500: loss: 0.03643318557894217\n",
            "Epoch 344/500: loss: 0.036793862193716116\n",
            "Epoch 345/500: loss: 0.03648225501762719\n",
            "Epoch 346/500: loss: 0.03634084263918084\n",
            "Epoch 347/500: loss: 0.03642271806933824\n",
            "Epoch 348/500: loss: 0.03618709203770253\n",
            "Epoch 349/500: loss: 0.03622283475516387\n",
            "Epoch 350/500: loss: 0.03615659073812202\n",
            "Epoch 351/500: loss: 0.03604064947986985\n",
            "Epoch 352/500: loss: 0.03625159602813074\n",
            "Epoch 353/500: loss: 0.036349770576048004\n",
            "Epoch 354/500: loss: 0.03586247725501436\n",
            "Epoch 355/500: loss: 0.03593393103334825\n",
            "Epoch 356/500: loss: 0.035832551663859936\n",
            "Epoch 357/500: loss: 0.035802969130963126\n",
            "Epoch 358/500: loss: 0.03583832582921282\n",
            "Epoch 359/500: loss: 0.03600057546649359\n",
            "Epoch 360/500: loss: 0.03575289833556379\n",
            "Epoch 361/500: loss: 0.03568189433078397\n",
            "Epoch 362/500: loss: 0.036823082574968836\n",
            "Epoch 363/500: loss: 0.03560611295654763\n",
            "Epoch 364/500: loss: 0.03578929768310701\n",
            "Epoch 365/500: loss: 0.03575073864093473\n",
            "Epoch 366/500: loss: 0.035343704838629\n",
            "Epoch 367/500: loss: 0.03542386333015223\n",
            "Epoch 368/500: loss: 0.035465736441642574\n",
            "Epoch 369/500: loss: 0.035323037161945216\n",
            "Epoch 370/500: loss: 0.03520783472032882\n",
            "Epoch 371/500: loss: 0.03529886568811526\n",
            "Epoch 372/500: loss: 0.03538688161523615\n",
            "Epoch 373/500: loss: 0.03529521018195257\n",
            "Epoch 374/500: loss: 0.035249664405875535\n",
            "Epoch 375/500: loss: 0.03511009921511853\n",
            "Epoch 376/500: loss: 0.035128553205151215\n",
            "Epoch 377/500: loss: 0.03547381392092301\n",
            "Epoch 378/500: loss: 0.0350367928705465\n",
            "Epoch 379/500: loss: 0.03523090762784257\n",
            "Epoch 380/500: loss: 0.03537659383153134\n",
            "Epoch 381/500: loss: 0.03514380734603868\n",
            "Epoch 382/500: loss: 0.03475414835427589\n",
            "Epoch 383/500: loss: 0.03483158611518937\n",
            "Epoch 384/500: loss: 0.03473777811527605\n",
            "Epoch 385/500: loss: 0.03597842004660335\n",
            "Epoch 386/500: loss: 0.034657206421255735\n",
            "Epoch 387/500: loss: 0.03601587761516235\n",
            "Epoch 388/500: loss: 0.034938433528930404\n",
            "Epoch 389/500: loss: 0.03485092795012117\n",
            "Epoch 390/500: loss: 0.03446744984537171\n",
            "Epoch 391/500: loss: 0.03515954314123613\n",
            "Epoch 392/500: loss: 0.03450338828735413\n",
            "Epoch 393/500: loss: 0.03450021993562573\n",
            "Epoch 394/500: loss: 0.0342317455983264\n",
            "Epoch 395/500: loss: 0.034477134970030215\n",
            "Epoch 396/500: loss: 0.03457902649749353\n",
            "Epoch 397/500: loss: 0.03418577075122164\n",
            "Epoch 398/500: loss: 0.034100774770837027\n",
            "Epoch 399/500: loss: 0.03441694334352643\n",
            "Epoch 400/500: loss: 0.034215774765703186\n",
            "Epoch 401/500: loss: 0.03459068973331859\n",
            "Epoch 402/500: loss: 0.03412528799567372\n",
            "Epoch 403/500: loss: 0.03403684249758195\n",
            "Epoch 404/500: loss: 0.03397215342356839\n",
            "Epoch 405/500: loss: 0.033882681223861504\n",
            "Epoch 406/500: loss: 0.03398937992381205\n",
            "Epoch 407/500: loss: 0.03402634608590703\n",
            "Epoch 408/500: loss: 0.03381719706097226\n",
            "Epoch 409/500: loss: 0.033953879639142176\n",
            "Epoch 410/500: loss: 0.03367990590543016\n",
            "Epoch 411/500: loss: 0.0338890229774621\n",
            "Epoch 412/500: loss: 0.033945720306064915\n",
            "Epoch 413/500: loss: 0.03355141086676031\n",
            "Epoch 414/500: loss: 0.03369630937168543\n",
            "Epoch 415/500: loss: 0.03365116579496117\n",
            "Epoch 416/500: loss: 0.033706142529525265\n",
            "Epoch 417/500: loss: 0.03343404232529991\n",
            "Epoch 418/500: loss: 0.03372009888208628\n",
            "Epoch 419/500: loss: 0.03332757926341268\n",
            "Epoch 420/500: loss: 0.03331933731411956\n",
            "Epoch 421/500: loss: 0.03350074976163075\n",
            "Epoch 422/500: loss: 0.03345397824956226\n",
            "Epoch 423/500: loss: 0.03337312064895743\n",
            "Epoch 424/500: loss: 0.03330647081946446\n",
            "Epoch 425/500: loss: 0.033523312610417785\n",
            "Epoch 426/500: loss: 0.03318887094300636\n",
            "Epoch 427/500: loss: 0.03315358318107779\n",
            "Epoch 428/500: loss: 0.03313092083565146\n",
            "Epoch 429/500: loss: 0.0332192389026724\n",
            "Epoch 430/500: loss: 0.03313264520883975\n",
            "Epoch 431/500: loss: 0.03334813724175144\n",
            "Epoch 432/500: loss: 0.033507748339215486\n",
            "Epoch 433/500: loss: 0.03355233469377246\n",
            "Epoch 434/500: loss: 0.03303027715434264\n",
            "Epoch 435/500: loss: 0.033267230581037345\n",
            "Epoch 436/500: loss: 0.032906032941539355\n",
            "Epoch 437/500: loss: 0.032879643928333126\n",
            "Epoch 438/500: loss: 0.03280189625600078\n",
            "Epoch 439/500: loss: 0.032819660647571844\n",
            "Epoch 440/500: loss: 0.03266855963042588\n",
            "Epoch 441/500: loss: 0.0341470573542272\n",
            "Epoch 442/500: loss: 0.03258269445416131\n",
            "Epoch 443/500: loss: 0.03265101651889516\n",
            "Epoch 444/500: loss: 0.03267812573801992\n",
            "Epoch 445/500: loss: 0.03266157749630546\n",
            "Epoch 446/500: loss: 0.03255091806424718\n",
            "Epoch 447/500: loss: 0.032645450600829254\n",
            "Epoch 448/500: loss: 0.0327697068262583\n",
            "Epoch 449/500: loss: 0.03261887277449443\n",
            "Epoch 450/500: loss: 0.032536304786969956\n",
            "Epoch 451/500: loss: 0.032362749205540414\n",
            "Epoch 452/500: loss: 0.03234279570275071\n",
            "Epoch 453/500: loss: 0.03225757983141004\n",
            "Epoch 454/500: loss: 0.03237211299745456\n",
            "Epoch 455/500: loss: 0.032222707605394627\n",
            "Epoch 456/500: loss: 0.03241043910171559\n",
            "Epoch 457/500: loss: 0.03224155257975913\n",
            "Epoch 458/500: loss: 0.03257307019587668\n",
            "Epoch 459/500: loss: 0.03219274351222478\n",
            "Epoch 460/500: loss: 0.0320336653999946\n",
            "Epoch 461/500: loss: 0.032060571002908024\n",
            "Epoch 462/500: loss: 0.03200717312815544\n",
            "Epoch 463/500: loss: 0.03207854970397985\n",
            "Epoch 464/500: loss: 0.03219181251931633\n",
            "Epoch 465/500: loss: 0.03201298204369999\n",
            "Epoch 466/500: loss: 0.0318858240298175\n",
            "Epoch 467/500: loss: 0.03205966585332052\n",
            "Epoch 468/500: loss: 0.03261826452152816\n",
            "Epoch 469/500: loss: 0.032082038258302636\n",
            "Epoch 470/500: loss: 0.0317741127635318\n",
            "Epoch 471/500: loss: 0.03204028656334666\n",
            "Epoch 472/500: loss: 0.031749854408711996\n",
            "Epoch 473/500: loss: 0.03201449334785855\n",
            "Epoch 474/500: loss: 0.031870891514149347\n",
            "Epoch 475/500: loss: 0.03164750456119643\n",
            "Epoch 476/500: loss: 0.03184770386979949\n",
            "Epoch 477/500: loss: 0.03160682343259672\n",
            "Epoch 478/500: loss: 0.031629857908998936\n",
            "Epoch 479/500: loss: 0.03157707058052384\n",
            "Epoch 480/500: loss: 0.03191911530102866\n",
            "Epoch 481/500: loss: 0.0315175107107867\n",
            "Epoch 482/500: loss: 0.03150001581302957\n",
            "Epoch 483/500: loss: 0.03142021793996808\n",
            "Epoch 484/500: loss: 0.031444012961205046\n",
            "Epoch 485/500: loss: 0.031514876753364666\n",
            "Epoch 486/500: loss: 0.03144712643500221\n",
            "Epoch 487/500: loss: 0.03139167614116604\n",
            "Epoch 488/500: loss: 0.031513640619827005\n",
            "Epoch 489/500: loss: 0.03133848760530609\n",
            "Epoch 490/500: loss: 0.03150269944525054\n",
            "Epoch 491/500: loss: 0.03129641243169691\n",
            "Epoch 492/500: loss: 0.03141966554482332\n",
            "Epoch 493/500: loss: 0.03121789767789602\n",
            "Epoch 494/500: loss: 0.03143394000921962\n",
            "Epoch 495/500: loss: 0.03162893095405374\n",
            "Epoch 496/500: loss: 0.031092802580598128\n",
            "Epoch 497/500: loss: 0.031128845619930928\n",
            "Epoch 498/500: loss: 0.03138997587450205\n",
            "Epoch 499/500: loss: 0.031094289196598107\n",
            "Epoch 500/500: loss: 0.031523349312033856\n"
          ],
          "name": "stdout"
        },
        {
          "output_type": "display_data",
          "data": {
            "image/png": "[encoded data removed]",
            "text/plain": [
              "<Figure size 432x288 with 1 Axes>"
            ]
          },
          "metadata": {
            "tags": []
          }
        }
      ]
    },
    {
      "cell_type": "markdown",
      "metadata": {
        "id": "lm4gAuwNNa30",
        "colab_type": "text"
      },
      "source": [
        "Summarize the results for the training part. It is possible to observe the decreasement of the training loss. It is reduced from 0.7 to 0.07 in the 500 epochs required. This type of result means that the efficiency of the solution is quite high, but it has to be evaluated in the following section."
      ]
    },
    {
      "cell_type": "markdown",
      "metadata": {
        "id": "qkkbVt39aX71",
        "colab_type": "text"
      },
      "source": [
        "Evaluate the trained model on the test set. Extract and comment interesting metrics, such as loss, accuracy, precision or recall."
      ]
    },
    {
      "cell_type": "code",
      "metadata": {
        "id": "vz5CjrncaYJg",
        "colab_type": "code",
        "outputId": "5e23b7b3-889c-4e03-e5ee-a762693ed34c",
        "colab": {
          "base_uri": "https://localhost:8080/",
          "height": 134
        }
      },
      "source": [
        "model.predict(features_te, labels_te)"
      ],
      "execution_count": 23,
      "outputs": [
        {
          "output_type": "stream",
          "text": [
            "The number of True Positives is: 40\n",
            "The number of False Negatives is: 1\n",
            "The number of False Positives is: 2\n",
            "The number of True Negatives is: 69\n",
            "The precision is: 0.9523809523809523\n",
            "The recall is: 0.975609756097561\n",
            "The accuracy is: 0.9732142857142857\n"
          ],
          "name": "stdout"
        }
      ]
    },
    {
      "cell_type": "markdown",
      "metadata": {
        "id": "csQVAMj-aYS9",
        "colab_type": "text"
      },
      "source": [
        "The results for the evaluation are really good. On one way, the amount of false negatives and false positives is really low. This means that the output of the binary classifier is correctly predicted with a high probability. All the extracted metrics have an efficiency higher than 95%."
      ]
    },
    {
      "cell_type": "markdown",
      "metadata": {
        "id": "uRThipH0rICy",
        "colab_type": "text"
      },
      "source": [
        "# Triangles vs Circles (Basic Shapes Dataset)\n",
        "\n",
        "For more information, see: https://www.kaggle.com/cactus3/basicshapes"
      ]
    },
    {
      "cell_type": "code",
      "metadata": {
        "id": "Vrk4opOGrnci",
        "colab_type": "code",
        "outputId": "b394c04c-cbf5-4717-ebb5-921d91f18e02",
        "colab": {
          "base_uri": "https://localhost:8080/",
          "height": 84
        }
      },
      "source": [
        "!curl -c ./cookie -s -L \"https://drive.google.com/uc?export=download&id=1Va88vwMwmToi0SFfdTo8_9TJsV4qdOXK\" > /dev/null\n",
        "!curl -Lb ./cookie \"https://drive.google.com/uc?export=download&confirm=`awk '/download/ {print $NF}' ./cookie`&id=1Va88vwMwmToi0SFfdTo8_9TJsV4qdOXK\" -o circles_vs_triangles_data.pkl"
      ],
      "execution_count": 24,
      "outputs": [
        {
          "output_type": "stream",
          "text": [
            "  % Total    % Received % Xferd  Average Speed   Time    Time     Time  Current\n",
            "                                 Dload  Upload   Total   Spent    Left  Speed\n",
            "\r  0     0    0     0    0     0      0      0 --:--:-- --:--:-- --:--:--     0\r100   388    0   388    0     0   2852      0 --:--:-- --:--:-- --:--:--  2852\n",
            "\r  0     0    0     0    0     0      0      0 --:--:-- --:--:-- --:--:--     0\r100  153k  100  153k    0     0   546k      0 --:--:-- --:--:-- --:--:--  149M\n"
          ],
          "name": "stdout"
        }
      ]
    },
    {
      "cell_type": "code",
      "metadata": {
        "id": "IqhCk_tc5ces",
        "colab_type": "code",
        "colab": {}
      },
      "source": [
        "import pickle\n",
        "from __future__ import division\n",
        "\n",
        "with open('circles_vs_triangles_data.pkl', 'rb') as f:\n",
        "    data = pickle.load(f)\n",
        "features, labels = np.array(data['features'], dtype=np.float), data['labels']"
      ],
      "execution_count": 0,
      "outputs": []
    },
    {
      "cell_type": "code",
      "metadata": {
        "id": "Hh_K4z1-Rf94",
        "colab_type": "code",
        "outputId": "cb640446-7633-4258-b2b4-605ec24fce0c",
        "colab": {
          "base_uri": "https://localhost:8080/",
          "height": 34
        }
      },
      "source": [
        "features.shape"
      ],
      "execution_count": 26,
      "outputs": [
        {
          "output_type": "execute_result",
          "data": {
            "text/plain": [
              "(200, 28, 28, 1)"
            ]
          },
          "metadata": {
            "tags": []
          },
          "execution_count": 26
        }
      ]
    },
    {
      "cell_type": "markdown",
      "metadata": {
        "id": "85kkUBgzrlSj",
        "colab_type": "text"
      },
      "source": [
        "## Data exploration and Pre-processing\n",
        "Tasks:\n",
        "* Print the distribution of the labels.\n",
        "* Plot some images (3 circles and 3 triangles).\n",
        "* Randomly split the dataset to training and test sets. (Ratio should be 80-20.)\n",
        "  * After splitting make sure that the distribution of the labels are similar. (Print the distribution of the labels.)\n",
        "* Normalize the data between -1. and 1. (Use min-max scaling.)"
      ]
    },
    {
      "cell_type": "markdown",
      "metadata": {
        "id": "ZyL3KFD83-x1",
        "colab_type": "text"
      },
      "source": [
        "Print the distribution of the labels."
      ]
    },
    {
      "cell_type": "code",
      "metadata": {
        "id": "Y5CWlDOTsFG7",
        "colab_type": "code",
        "outputId": "85c3b177-f00d-4271-ce4b-135dd48fccc0",
        "colab": {
          "base_uri": "https://localhost:8080/",
          "height": 67
        }
      },
      "source": [
        "print(\"Number of instances is \"+ str(len(labels)))\n",
        "print(\"Number of instances whose label is 1: \" +str(len(labels[labels==1])))\n",
        "print(\"Number of instances whose label is 0: \" +str(len(labels[labels==0])))"
      ],
      "execution_count": 27,
      "outputs": [
        {
          "output_type": "stream",
          "text": [
            "Number of instances is 200\n",
            "Number of instances whose label is 1: 100\n",
            "Number of instances whose label is 0: 100\n"
          ],
          "name": "stdout"
        }
      ]
    },
    {
      "cell_type": "markdown",
      "metadata": {
        "id": "cnh0DyYS3_St",
        "colab_type": "text"
      },
      "source": [
        "Plot some images (3 circles and 3 triangles)."
      ]
    },
    {
      "cell_type": "code",
      "metadata": {
        "id": "aIQYAqpc3_f0",
        "colab_type": "code",
        "outputId": "0477b1b6-297d-4024-98bb-17321fbda7c0",
        "colab": {
          "base_uri": "https://localhost:8080/",
          "height": 267
        }
      },
      "source": [
        "import matplotlib.pyplot as plt\n",
        "fig=plt.figure()\n",
        "fig.add_subplot(2,3,1)\n",
        "plt.imshow(np.array(np.squeeze(features[0], axis=(2,))), cmap='gray')\n",
        "fig.add_subplot(2,3,2)\n",
        "plt.imshow(np.array(np.squeeze(features[10], axis=(2,))), cmap='gray')\n",
        "fig.add_subplot(2,3,3)\n",
        "plt.imshow(np.array(np.squeeze(features[20], axis=(2,))), cmap='gray')\n",
        "fig.add_subplot(2,3,4)\n",
        "plt.imshow(np.array(np.squeeze(features[130], axis=(2,))), cmap='gray')\n",
        "fig.add_subplot(2,3,5)\n",
        "plt.imshow(np.array(np.squeeze(features[140], axis=(2,))), cmap='gray')\n",
        "fig.add_subplot(2,3,6)\n",
        "plt.imshow(np.array(np.squeeze(features[150], axis=(2,))), cmap='gray')\n",
        "plt.show()"
      ],
      "execution_count": 28,
      "outputs": [
        {
          "output_type": "display_data",
          "data": {
            "image/png": "[encoded data removed]",
            "text/plain": [
              "<Figure size 432x288 with 6 Axes>"
            ]
          },
          "metadata": {
            "tags": []
          }
        }
      ]
    },
    {
      "cell_type": "markdown",
      "metadata": {
        "id": "XF3aKsxD48bT",
        "colab_type": "text"
      },
      "source": [
        "Normalize the data between -1. and 1, using min-max scaling."
      ]
    },
    {
      "cell_type": "code",
      "metadata": {
        "id": "JX8XID6748iD",
        "colab_type": "code",
        "colab": {}
      },
      "source": [
        "for i in range(features.shape[0]):\n",
        "  min_val = np.min(features[i])\n",
        "  max_val = np.max(features[i])\n",
        "  for j in range(features.shape[1]):\n",
        "    for k in range(features.shape[2]):\n",
        "      a = features[i][j][k] - min_val\n",
        "      b = max_val - min_val\n",
        "      features[i][j][k] = 2 * (a/b - 0.5)"
      ],
      "execution_count": 0,
      "outputs": []
    },
    {
      "cell_type": "markdown",
      "metadata": {
        "id": "QoBFSgme3_zM",
        "colab_type": "text"
      },
      "source": [
        "Randomly split the dataset to training and test sets. Ratio should be 80% for training and 20% for testing."
      ]
    },
    {
      "cell_type": "code",
      "metadata": {
        "id": "0q4p7Q9_3__T",
        "colab_type": "code",
        "colab": {}
      },
      "source": [
        "features_tr, features_te, labels_tr, labels_te = train_test_split(features, labels, test_size=0.20)"
      ],
      "execution_count": 0,
      "outputs": []
    },
    {
      "cell_type": "markdown",
      "metadata": {
        "id": "xeOYyI0w48Ek",
        "colab_type": "text"
      },
      "source": [
        "Make sure that the distribution of the labels is similar. Print the distribution of the labels."
      ]
    },
    {
      "cell_type": "code",
      "metadata": {
        "id": "mGkxRcT_48Or",
        "colab_type": "code",
        "outputId": "558567af-ad00-4e67-b7f0-1d221ff58412",
        "colab": {
          "base_uri": "https://localhost:8080/",
          "height": 84
        }
      },
      "source": [
        "print(\"Number of instances whose label is 1 (in train set): \" +str(len(labels_tr[labels_tr==1])))\n",
        "print(\"Number of instances whose label is 0 (in train set): \" +str(len(labels_tr[labels_tr==0])))\n",
        "print(\"Number of instances whose label is 1 (in test set): \" +str(len(labels_te[labels_te==1])))\n",
        "print(\"Number of instances whose label is 0 (in test set): \" +str(len(labels_te[labels_te==0])))"
      ],
      "execution_count": 31,
      "outputs": [
        {
          "output_type": "stream",
          "text": [
            "Number of instances whose label is 1 (in train set): 80\n",
            "Number of instances whose label is 0 (in train set): 80\n",
            "Number of instances whose label is 1 (in test set): 20\n",
            "Number of instances whose label is 0 (in test set): 20\n"
          ],
          "name": "stdout"
        }
      ]
    },
    {
      "cell_type": "markdown",
      "metadata": {
        "id": "UDvYFMjKsGJz",
        "colab_type": "text"
      },
      "source": [
        "## Define and train a model.\n",
        "Tasks:\n",
        "* Define a simple convolutional network as follows: 2x(Conv2D with 4 [then 8 in the second time] (3x3) kernels -> ReLU -> MaxPooling2D) -> Flatten -> Dense with 32 units -> Relu -> Dense -> Sigmoid\n",
        "* Train it for 100 (or less if it is too slow...) epochs with a batch size of 16 using SGD optimizer with learning rate of 0.01.\n",
        "  * Optional: Also train it with the optimized implementation, and measure the speed up. \n",
        "* Plot the learning curve.\n",
        "  * Summmarize in a few words what you see. (Presence of overfitting, underfitting, ...)\n",
        "* Evaluate the trained model on the test set. (Loss, accuracy, precision, recall)"
      ]
    },
    {
      "cell_type": "code",
      "metadata": {
        "id": "S0Ky-8ESsI4F",
        "colab_type": "code",
        "colab": {}
      },
      "source": [
        "np.random.seed(25)"
      ],
      "execution_count": 0,
      "outputs": []
    },
    {
      "cell_type": "markdown",
      "metadata": {
        "id": "JiBUXbC2QQFv",
        "colab_type": "text"
      },
      "source": [
        "Define a simple convolutional network as follows: \n",
        "2x(Conv2D with 4 [then 8 in the second time] (3x3) kernels -> ReLU -> MaxPooling2D) -> Flatten -> Dense with 32 units -> Relu -> Dense -> Sigmoid\n",
        "\n",
        "Then, train it for 100 (or less if it is too slow...) epochs with a batch size of 16 using SGD optimizer with learning rate of 0.01. \n",
        "\n",
        "Finally, plot the learning curve."
      ]
    },
    {
      "cell_type": "code",
      "metadata": {
        "id": "-Yrs5d3kQQRN",
        "colab_type": "code",
        "outputId": "3988ba35-3d7f-41d7-d940-e340afa8a1a7",
        "colab": {
          "base_uri": "https://localhost:8080/",
          "height": 1000
        }
      },
      "source": [
        "model2 = Model(layers=None, loss=BinaryCrossentropy(), optimizer=SGD(learning_rate=0.01))\n",
        "model2.add(Conv2d(kernel_size=3, n_channels=1, n_kernels=4, pad=1, activation=Relu()))\n",
        "model2.add(Maxpool2d())\n",
        "model2.add(Conv2d(kernel_size=3, n_channels=1, n_kernels=8, pad=1, activation=Relu()))\n",
        "model2.add(Maxpool2d())\n",
        "model2.add(Flatten())\n",
        "model2.add(Dense([392, 32], Relu()))\n",
        "model2.add(Dense([32, 1], Sigmoid()))\n",
        "model2.train(features_tr, labels_tr, 50, 16)"
      ],
      "execution_count": 33,
      "outputs": [
        {
          "output_type": "stream",
          "text": [
            "Epoch 1/50: loss: 0.34747485367442327\n",
            "Epoch 2/50: loss: 0.342290514760814\n",
            "Epoch 3/50: loss: 0.3421286778168617\n",
            "Epoch 4/50: loss: 0.3342882749915099\n",
            "Epoch 5/50: loss: 0.33707788377367726\n",
            "Epoch 6/50: loss: 0.3135736244190284\n",
            "Epoch 7/50: loss: 0.31773247033981605\n",
            "Epoch 8/50: loss: 0.3286182018039492\n",
            "Epoch 9/50: loss: 0.30939485700192054\n",
            "Epoch 10/50: loss: 0.3032444113007067\n",
            "Epoch 11/50: loss: 0.32609338892237794\n",
            "Epoch 12/50: loss: 0.3088775183172207\n",
            "Epoch 13/50: loss: 0.30108926295099897\n",
            "Epoch 14/50: loss: 0.3031976278650449\n",
            "Epoch 15/50: loss: 0.29825448136802046\n",
            "Epoch 16/50: loss: 0.2822248304921059\n",
            "Epoch 17/50: loss: 0.30432422752147265\n",
            "Epoch 18/50: loss: 0.29875918334027496\n",
            "Epoch 19/50: loss: 0.3024155324849462\n",
            "Epoch 20/50: loss: 0.27904361162316105\n",
            "Epoch 21/50: loss: 0.28298829753520566\n",
            "Epoch 22/50: loss: 0.3061411067482235\n",
            "Epoch 23/50: loss: 0.28439219991717873\n",
            "Epoch 24/50: loss: 0.2830958208114206\n",
            "Epoch 25/50: loss: 0.29523726876355993\n",
            "Epoch 26/50: loss: 0.3040784818246267\n",
            "Epoch 27/50: loss: 0.2942700203397788\n",
            "Epoch 28/50: loss: 0.2899681271333706\n",
            "Epoch 29/50: loss: 0.2798935926660385\n",
            "Epoch 30/50: loss: 0.2955845827632195\n",
            "Epoch 31/50: loss: 0.2977358685291397\n",
            "Epoch 32/50: loss: 0.29211962033743777\n",
            "Epoch 33/50: loss: 0.3025507781600987\n",
            "Epoch 34/50: loss: 0.2975055494654396\n",
            "Epoch 35/50: loss: 0.2856697639078513\n",
            "Epoch 36/50: loss: 0.29428870170975924\n",
            "Epoch 37/50: loss: 0.2955068099431044\n",
            "Epoch 38/50: loss: 0.2839268934015551\n",
            "Epoch 39/50: loss: 0.28452054358504825\n",
            "Epoch 40/50: loss: 0.2787145721180944\n",
            "Epoch 41/50: loss: 0.29901210278250806\n",
            "Epoch 42/50: loss: 0.3006274483306979\n",
            "Epoch 43/50: loss: 0.2919080337637319\n",
            "Epoch 44/50: loss: 0.2870328867083744\n",
            "Epoch 45/50: loss: 0.28161563403300127\n",
            "Epoch 46/50: loss: 0.2835243418229431\n",
            "Epoch 47/50: loss: 0.2869109767254533\n",
            "Epoch 48/50: loss: 0.27669462579699355\n",
            "Epoch 49/50: loss: 0.27859026584037344\n",
            "Epoch 50/50: loss: 0.2957319461669491\n"
          ],
          "name": "stdout"
        },
        {
          "output_type": "display_data",
          "data": {
            "image/png": "[encoded data removed]",
            "text/plain": [
              "<Figure size 432x288 with 1 Axes>"
            ]
          },
          "metadata": {
            "tags": []
          }
        }
      ]
    },
    {
      "cell_type": "markdown",
      "metadata": {
        "id": "qGMfvMFYQQbm",
        "colab_type": "text"
      },
      "source": [
        "The evolution of the learning curve plot throughout 50 epochs show a slow decay of the loss, although it is stable after the first 20 epochs. This means that the neural network is learning, but not too much. Therefore, it could be said that the results are not going to be as good as in the BCWD.\n",
        "\n",
        "Afterwards, proceed for the evaluation step, applying predict function to this new model."
      ]
    },
    {
      "cell_type": "code",
      "metadata": {
        "id": "WL91mFJ3QQoo",
        "colab_type": "code",
        "outputId": "79068ff9-f0fc-49e8-ad8b-1b5e9149f023",
        "colab": {
          "base_uri": "https://localhost:8080/",
          "height": 134
        }
      },
      "source": [
        "model2.predict(features_te, labels_te, True)"
      ],
      "execution_count": 34,
      "outputs": [
        {
          "output_type": "stream",
          "text": [
            "The number of True Positives is: 11\n",
            "The number of False Negatives is: 9\n",
            "The number of False Positives is: 5\n",
            "The number of True Negatives is: 15\n",
            "The precision is: 0.6875\n",
            "The recall is: 0.55\n",
            "The accuracy is: 0.65\n"
          ],
          "name": "stdout"
        }
      ]
    },
    {
      "cell_type": "markdown",
      "metadata": {
        "id": "JU1cVHMYQQ2Y",
        "colab_type": "text"
      },
      "source": [
        "Evaluate the trained model on the test set. The result of the evaluation is not totally good, as the accuracy is lower than 80%. There should be a mistake either in convolutional, in max pooling layer or in the initialization of the project. The mistake could also be in the initialization as the plotted weights are either really small or null."
      ]
    }
  ]
}